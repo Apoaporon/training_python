{
 "cells": [
  {
   "cell_type": "code",
   "execution_count": 1,
   "metadata": {
    "collapsed": true
   },
   "outputs": [],
   "source": [
    "# ライブラリをインポート\n",
    "import shutil\n",
    "\n",
    "from google.cloud import speech # 文字起こしに利用するライブラリ\n",
    "import io\n",
    "import os\n",
    "import glob\n",
    "import ffmpeg\n",
    "import pandas as pd\n",
    "\n",
    "# 音声ファイルをカットする際に利用するライブラリ\n",
    "from numpy import int16\n",
    "import wave\n",
    "import struct\n",
    "import math\n",
    "import numpy as np\n",
    "\n",
    "from pydub import AudioSegment\n",
    "import numpy as np\n",
    "from scipy.io.wavfile import write\n",
    "\n",
    "import soundfile # audio file のbit数を変換するために利用するライブラリ\n",
    "\n",
    "# keyを指定\n",
    "os.environ['GOOGLE_APPLICATION_CREDENTIALS'] = '../Transcription/key/credentials.json'"
   ]
  },
  {
   "cell_type": "code",
   "execution_count": 11,
   "outputs": [],
   "source": [
    "# 対象ファイル←ここで指定するだけで効率的にファイルの指定ができるようにする\n",
    "wave_file_name = '20220411322717_140250_59883_20220411322717.wav'"
   ],
   "metadata": {
    "collapsed": false,
    "pycharm": {
     "name": "#%%\n"
    }
   }
  },
  {
   "cell_type": "code",
   "execution_count": 12,
   "outputs": [],
   "source": [
    "# 複数のオーディオがあるフォルダ内のwavファイルのpathを取得する\n",
    "def audio_file_path_getter(check_path):\n",
    "    path_name = glob.glob(check_path)\n",
    "    print('pathの数は===', len(path_name))\n",
    "    return path_name"
   ],
   "metadata": {
    "collapsed": false,
    "pycharm": {
     "name": "#%%\n"
    }
   }
  },
  {
   "cell_type": "code",
   "execution_count": 13,
   "outputs": [],
   "source": [
    "# audioのファイル名を取得する関数\n",
    "def audio_name_getter(audio_folder_path):\n",
    "    name_list = []\n",
    "    file_name = os.listdir(audio_folder_path)\n",
    "    for item in file_name:\n",
    "        # pathから名前のところだけを取得する\n",
    "        name_list.append(os.path.basename(item).split('.', 1)[0])\n",
    "    return name_list"
   ],
   "metadata": {
    "collapsed": false,
    "pycharm": {
     "name": "#%%\n"
    }
   }
  },
  {
   "cell_type": "code",
   "execution_count": 14,
   "outputs": [],
   "source": [
    "# いただいたファイルの音声ファイルのbit数が8bitだったので変換時に16bitに変換しろとエラーが出た\n",
    "# bit数を変換する関数\n",
    "def bit_change(audio_file_path, subtype):\n",
    "    data, fs = soundfile.read(audio_file_path)\n",
    "    soundfile.write('../Transcription/16bit_audio/bit_change_audio.wav', data, fs, subtype=subtype)\n",
    "    print('bit数の変換ファイルの出力が終了しました。')\n"
   ],
   "metadata": {
    "collapsed": false,
    "pycharm": {
     "name": "#%%\n"
    }
   }
  },
  {
   "cell_type": "code",
   "execution_count": 15,
   "outputs": [],
   "source": [
    "# wavファイルを59秒間隔で分割する関数\n",
    "def cut_wav(audio_chang_wav, time, wav_cut_dir):\n",
    "    wr = wave.open(audio_chang_wav, \"r\")\n",
    "\n",
    "    # wav情報を取得\n",
    "    ch = wr.getnchannels()\n",
    "    width = wr.getsampwidth()\n",
    "    fr = wr.getframerate()\n",
    "    fn = wr.getnframes()\n",
    "    total_time = 1.0 * fn / fr\n",
    "    integer = math.floor(total_time)\n",
    "    t = int(time)\n",
    "    frames = int(ch * fr * t)\n",
    "    # 小数点切り上げ（1分に満たない最後のシーンを出力するため）\n",
    "    num_cut = int(math.ceil(integer / t))\n",
    "    data = wr.readframes(wr.getnframes())\n",
    "    wr.close()\n",
    "\n",
    "    X = np.frombuffer(data, dtype=int16)\n",
    "\n",
    "    for i in range(num_cut):\n",
    "        outf = wav_cut_dir + str(i) + \".wav\"\n",
    "        start_cut = int(i * frames)\n",
    "        end_cut = int(i * frames + frames)\n",
    "        print(start_cut)\n",
    "        print(end_cut)\n",
    "        Y = X[start_cut:end_cut]\n",
    "        outd = struct.pack(\"h\" * len(Y), *Y)\n",
    "\n",
    "        # 書き出し\n",
    "        ww = wave.open(outf, \"w\")\n",
    "        ww.setnchannels(ch)\n",
    "        ww.setsampwidth(width)\n",
    "        ww.setframerate(fr)\n",
    "        ww.writeframes(outd)\n",
    "        ww.close()\n",
    "    print('音声のカットを終了します')"
   ],
   "metadata": {
    "collapsed": false,
    "pycharm": {
     "name": "#%%\n"
    }
   }
  },
  {
   "cell_type": "code",
   "execution_count": 16,
   "outputs": [],
   "source": [
    "# timestampを本来の時間に戻す関数\n",
    "def calc_audio_time(dataframe):\n",
    "    for index, row in dataframe.iterrows():\n",
    "        # audioを59秒ごとにカットしているので、audio_numの番号 * 59秒で本来の時間に戻してtimestampを更新\n",
    "        dataframe.at[index, 'new_time_stamp'] = row['new_time_stamp'] + (int(row['audio_num']) * 59)\n",
    "    return  dataframe"
   ],
   "metadata": {
    "collapsed": false,
    "pycharm": {
     "name": "#%%\n"
    }
   }
  },
  {
   "cell_type": "code",
   "execution_count": 17,
   "outputs": [],
   "source": [
    "# ステレオチャンネルの音声の文字起こしをする関数\n",
    "def transcription_wav_stereo(audio_file, box, string_data):\n",
    "    client = speech.SpeechClient()\n",
    "\n",
    "    with io.open(audio_file, 'rb') as f:\n",
    "        content = f.read()\n",
    "\n",
    "    audio = speech.RecognitionAudio(content=content)\n",
    "\n",
    "    config = speech.RecognitionConfig(\n",
    "        encoding = speech.RecognitionConfig.AudioEncoding.LINEAR16,\n",
    "        sample_rate_hertz = 8000,\n",
    "        language_code = 'ja-JP',\n",
    "        audio_channel_count = 2,\n",
    "        enable_separate_recognition_per_channel = True,\n",
    "        # Trueにすると拡張モデルを利用する。何も指定しなかったら通常のモード（有料です）\n",
    "        use_enhanced=True,\n",
    "        # 機械学習モデルを選択できるので、それで電話通話を選択する。\n",
    "        model=\"phone_call\",\n",
    "    )\n",
    "\n",
    "    response = client.recognize(config=config, audio=audio)\n",
    "\n",
    "    for i, result in enumerate(response.results):\n",
    "        alternative = result.alternatives[0]\n",
    "        print('-'*20)\n",
    "        #print('現在文字起こし中です')\n",
    "        # print('first alternative of result {}'.format(i))\n",
    "        # print(u'Transcript:{}'.format(alternative.transcript))\n",
    "        # print(u'Channel Tag:{}'.format(result.channel_tag))\n",
    "        # print('second is ===', result.result_end_time)\n",
    "        item = [alternative.transcript, result.channel_tag, result.result_end_time, string_data]\n",
    "        box.append(item)\n",
    "\n",
    "    print('文字起こしを終了します。')\n",
    "    return box"
   ],
   "metadata": {
    "collapsed": false,
    "pycharm": {
     "name": "#%%\n"
    }
   }
  },
  {
   "cell_type": "code",
   "execution_count": 18,
   "outputs": [],
   "source": [
    "# 音声取得〜整形〜文字起こしまでを一括できるように関数化してみた\n",
    "def main():\n",
    "    # 音声ファイルが全部でいくつあるのかを確認して、それぞれのpathを全て取得する\n",
    "    raw_audio_folder = '../Transcription/audio/*.wav'\n",
    "    audio_file = audio_file_path_getter(raw_audio_folder)\n",
    "    print(audio_file)\n",
    "\n",
    "    # 音声ファイルの名前だけを取得する（最後にテキストファイルの名前に利用する）\n",
    "    raw_audio_name = '../Transcription/audio/'\n",
    "    audio_name = audio_name_getter(raw_audio_name)\n",
    "    audio_name = list(filter(None, audio_name))\n",
    "    print(audio_name)\n",
    "    # # テスト用\n",
    "    audio_file = ['../Transcription/audio/{}'.format(wave_file_name)]\n",
    "    audio_name = ['sample_create_1']\n",
    "    # pathの数だけ実行する\n",
    "    for audio, name in zip(audio_file, audio_name):\n",
    "        # 各音声ファイルの出力結果を格納するリスト 音声ファイルのpathが更新される度、空に戻すためにここに配置\n",
    "        text_save_list = []\n",
    "        print(audio)\n",
    "        # audioのbit数を16bitに変換する\n",
    "        bit_change(audio, 'PCM_16')\n",
    "        # 音声ファイルを59秒ごとに切り分けてfileに出力する\n",
    "        audio_file = '../Transcription/16bit_audio/bit_change_audio.wav'\n",
    "        save_cut_wav = '../Transcription/test_file/'\n",
    "        cut_wav(audio_file, 59, save_cut_wav)\n",
    "\n",
    "        # cutしたaudioファイルのpathを取得する\n",
    "        cut_audio = '../Transcription/test_file/*.wav'\n",
    "        cut_audio_file = audio_file_path_getter(cut_audio)\n",
    "\n",
    "        # 文字起こしを実行する\n",
    "        # 本来はlen(cut_audio_file)\n",
    "        for item in range(0,2):\n",
    "\n",
    "            #これで指定しないと、wavファイルの順番がバラバラで読み込まれてしまう\n",
    "            now_wav_file ='../Transcription/test_file/'+str(item) +'.wav'\n",
    "            # ステレオチャンネルの文字起こしを実行\n",
    "            transcription_wav_stereo(now_wav_file, text_save_list, item)\n",
    "\n",
    "        # 文字起こしした結果をdataframeに変換する\n",
    "        result_df = pd.DataFrame(text_save_list, columns=['text', 'tag', 'timestamp', 'audio_num'])\n",
    "\n",
    "        # 出力されたタイムスタンプを整数値に変換する\n",
    "        result_df['new_time_stamp'] = result_df['timestamp'].dt.total_seconds()\n",
    "        # timestampの値を本来の時間に戻す\n",
    "        result_df = calc_audio_time(result_df)\n",
    "\n",
    "        result_df.to_csv('../Transcription/text_csv/transcription_'+str(name)+'.csv')\n",
    "\n",
    "        # カットしたaudioを削除する\n",
    "        for item in cut_audio_file:\n",
    "            os.remove(item)\n",
    "\n",
    "        os.remove(audio_file) # 16bitに変換したオーディオファイルも削除しておく\n",
    "\n",
    "        print('音声ファイルの文字起こしを終了しました！')\n",
    "\n",
    "    print('実行を終了します')\n"
   ],
   "metadata": {
    "collapsed": false,
    "pycharm": {
     "name": "#%%\n"
    }
   }
  },
  {
   "cell_type": "code",
   "execution_count": 19,
   "outputs": [
    {
     "name": "stdout",
     "output_type": "stream",
     "text": [
      "pathの数は=== 1\n",
      "['../Transcription/audio/20220411322717_140250_59883_20220411322717.wav']\n",
      "['20220411322717_140250_59883_20220411322717', '']\n",
      "../Transcription/audio/20220411322717_140250_59883_20220411322717.wav\n",
      "bit数の変換ファイルの出力が終了しました。\n",
      "0\n",
      "944000\n",
      "944000\n",
      "1888000\n",
      "1888000\n",
      "2832000\n",
      "2832000\n",
      "3776000\n",
      "3776000\n",
      "4720000\n",
      "4720000\n",
      "5664000\n",
      "5664000\n",
      "6608000\n",
      "6608000\n",
      "7552000\n",
      "7552000\n",
      "8496000\n",
      "8496000\n",
      "9440000\n",
      "音声のカットを終了します\n",
      "pathの数は=== 10\n",
      "--------------------\n",
      "--------------------\n",
      "--------------------\n",
      "--------------------\n",
      "--------------------\n",
      "--------------------\n",
      "--------------------\n",
      "--------------------\n",
      "--------------------\n",
      "--------------------\n",
      "--------------------\n",
      "--------------------\n",
      "--------------------\n",
      "--------------------\n",
      "文字起こしを終了します。\n",
      "--------------------\n",
      "--------------------\n",
      "--------------------\n",
      "--------------------\n",
      "--------------------\n",
      "--------------------\n",
      "--------------------\n",
      "--------------------\n",
      "--------------------\n",
      "--------------------\n",
      "--------------------\n",
      "--------------------\n",
      "--------------------\n",
      "--------------------\n",
      "--------------------\n",
      "--------------------\n",
      "--------------------\n",
      "--------------------\n",
      "--------------------\n",
      "--------------------\n",
      "--------------------\n",
      "文字起こしを終了します。\n",
      "音声ファイルの文字起こしを終了しました！\n",
      "実行を終了します\n"
     ]
    }
   ],
   "source": [
    "main()"
   ],
   "metadata": {
    "collapsed": false,
    "pycharm": {
     "name": "#%%\n"
    }
   }
  },
  {
   "cell_type": "code",
   "execution_count": null,
   "outputs": [],
   "source": [
    "#~~~~~ここより下は今のところ使う予定がないコード~~~~~~~~~~~~~~"
   ],
   "metadata": {
    "collapsed": false,
    "pycharm": {
     "name": "#%%\n"
    }
   }
  },
  {
   "cell_type": "code",
   "execution_count": null,
   "outputs": [],
   "source": [
    "#いきなり長いファイルは処理が長くなってしまうので、適当に30秒ほどのデータを作成するときに利用\n",
    "def create_test_audio_file(start_second, end_second):\n",
    "    sound = AudioSegment.from_file('../Transcription/audio/{}'.format(wave_file_name), format='wav')\n",
    "    cut_sound = sound[start_second:end_second]\n",
    "    cut_sound.export('test_audio.wav', format='wav')"
   ],
   "metadata": {
    "collapsed": false,
    "pycharm": {
     "name": "#%%\n"
    }
   }
  },
  {
   "cell_type": "code",
   "execution_count": null,
   "outputs": [],
   "source": [
    "# ステレオチャンネルの音声をleft, rightで分割して出力する関数\n",
    "def stereo_channel_split(stereo_audio):\n",
    "    sound = AudioSegment.from_file(stereo_audio)\n",
    "    # チャンネル数\n",
    "    channel_count = sound.channels\n",
    "    # frame_rate = speech to text でいうところのhertz\n",
    "    frames_per_second = sound.frame_rate\n",
    "    # ファイルの音声の長さ（秒）\n",
    "    duration = sound.duration_seconds\n",
    "    # 音声ファイルをnumpyで変換\n",
    "    sound_array = np.array(sound.get_array_of_samples())\n",
    "    # 右左に分割\n",
    "    left_sound = sound_array[0:len(sound_array):2]\n",
    "    right_sound = sound_array[1:len(sound_array):2]\n",
    "    # 音声データの書き出し\n",
    "    write('left_audio.wav', frames_per_second, left_sound)\n",
    "    write('right_audio.wav', frames_per_second, right_sound)\n",
    "    print('音声の分割が終了しました')"
   ],
   "metadata": {
    "collapsed": false,
    "pycharm": {
     "name": "#%%\n"
    }
   }
  },
  {
   "cell_type": "code",
   "execution_count": null,
   "outputs": [],
   "source": [
    "# 文字起こし関数(モノラルチャンネルver)\n",
    "def transcription_wav(audio_file, box, string_data):\n",
    "    # 音声ファイルの読み込み\n",
    "    with io.open(audio_file, 'rb') as f:\n",
    "        content = f.read()\n",
    "\n",
    "    # APIパラメータの作成\n",
    "    audio = speech.RecognitionAudio(content = content)\n",
    "    config = speech.RecognitionConfig(\n",
    "        # 都度エンコーディングする場合は、LINEAR16 しない場合は、ENCODING_UNSPECIFIED\n",
    "        # hertzはwavファイルによっては変更する必要があるかもしれないです。自分の場合は32000に指定しろと言われました\n",
    "        encoding = speech.RecognitionConfig.AudioEncoding.LINEAR16,\n",
    "        sample_rate_hertz = 8000,\n",
    "        language_code = \"ja-JP\",\n",
    "        #enable_word_time_offsets=True\n",
    "    )\n",
    "\n",
    "    # APIの呼び出し\n",
    "    client = speech.SpeechClient()\n",
    "    response = client.recognize(config = config, audio = audio)\n",
    "\n",
    "    # 結果の表示\n",
    "    # for result in response.results:\n",
    "    #     print(result.alternatives[0].transcript)\n",
    "    for i, result in enumerate(response.results):\n",
    "        # print(result)\n",
    "        # print(i)\n",
    "        alternative = result.alternatives[0]\n",
    "        print('-'*20)\n",
    "        print('現在文字起こし中です')\n",
    "        # print('first alternative of result {}'.format(i))\n",
    "        # print(u'Transcript:{}'.format(alternative.transcript))\n",
    "        # print(u'Channel Tag:{}'.format(result.channel_tag))\n",
    "        # print('second is ===', result.result_end_time)\n",
    "        item = [format(alternative.transcript), result.result_end_time, string_data]\n",
    "        box.append(item)\n",
    "    print('文字起こしを終了します')\n",
    "    return box"
   ],
   "metadata": {
    "collapsed": false,
    "pycharm": {
     "name": "#%%\n"
    }
   }
  }
 ],
 "metadata": {
  "kernelspec": {
   "display_name": "Python 3",
   "language": "python",
   "name": "python3"
  },
  "language_info": {
   "codemirror_mode": {
    "name": "ipython",
    "version": 2
   },
   "file_extension": ".py",
   "mimetype": "text/x-python",
   "name": "python",
   "nbconvert_exporter": "python",
   "pygments_lexer": "ipython2",
   "version": "2.7.6"
  }
 },
 "nbformat": 4,
 "nbformat_minor": 0
}