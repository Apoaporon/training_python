{
 "cells": [
  {
   "cell_type": "code",
   "execution_count": 15,
   "metadata": {
    "collapsed": true
   },
   "outputs": [],
   "source": [
    "# ライブラリをインポート\n",
    "import matplotlib.pyplot as plt\n",
    "from google.cloud import speech\n",
    "import io\n",
    "import os\n",
    "from pydub import AudioSegment\n",
    "import ffmpeg"
   ]
  },
  {
   "cell_type": "code",
   "execution_count": 72,
   "outputs": [],
   "source": [
    "# 文字起こし関数(モノラルチャンネルver)\n",
    "def transcription_wav(audio_file):\n",
    "    # 音声ファイルの読み込み\n",
    "    with io.open(audio_file, 'rb') as f:\n",
    "        content = f.read()\n",
    "\n",
    "    # APIパラメータの作成\n",
    "    audio = speech.RecognitionAudio(content = content)\n",
    "    config = speech.RecognitionConfig(\n",
    "        # 都度エンコーディングする場合は、LINEAR16 しない場合は、ENCODING_UNSPECIFIED\n",
    "        # hertzはwavファイルによっては変更する必要があるかもしれないです。自分の場合は32000に指定しろと言われました\n",
    "        encoding = speech.RecognitionConfig.AudioEncoding.LINEAR16,\n",
    "        sample_rate_hertz = 8000,\n",
    "        language_code = \"ja-JP\"\n",
    "    )\n",
    "\n",
    "    # APIの呼び出し\n",
    "    client = speech.SpeechClient()\n",
    "    response = client.recognize(config = config, audio = audio)\n",
    "\n",
    "    # 結果の表示\n",
    "    # for result in response.results:\n",
    "    #     print(result.alternatives[0].transcript)\n",
    "    for i, result in enumerate(response.results):\n",
    "        print(result)\n",
    "        print(i)\n",
    "        # alternative = result.alternatives[0]\n",
    "        # print('-'*20)\n",
    "        # print('first alternative of result {}'.format(i))\n",
    "        # print(u'Transcript:{}'.format(alternative.transcript))\n",
    "        # print(u'Channel Tag:{}'.format(result.channel_tag))"
   ],
   "metadata": {
    "collapsed": false,
    "pycharm": {
     "name": "#%%\n"
    }
   }
  },
  {
   "cell_type": "code",
   "execution_count": 62,
   "outputs": [
    {
     "name": "stdout",
     "output_type": "stream",
     "text": [
      "--------------------\n",
      "first alternative of result 0\n",
      "Transcript:お世話なっております私 do you fine のお花と申しますお世話になっておりますそのための弊社側の設定変更ツールのま昨日契約と言うかこういうことできますかっていうの確認をしたいなと思いましてはい吉岡ハイツマニュアルには入ってるかいてはいたんですけれどもあの IP あるの設定なんですけどもえーとこれ自身はお願いしてもそれはにお願いをしてもできるし8こちら側てるかどうかだと言うか設定変更する側でこちらで確認できたを記入しても可能っていう認識で大丈夫ですかね\n",
      "Channel Tag:0\n"
     ]
    }
   ],
   "source": [
    "# keyを指定\n",
    "os.environ['GOOGLE_APPLICATION_CREDENTIALS'] = '../Transcription/key/credentials.json'\n",
    "# 実際に実行したいファイルを指定し、文字起こし関数を実行\n",
    "transcription_wav('sample1.wav')"
   ],
   "metadata": {
    "collapsed": false,
    "pycharm": {
     "name": "#%%\n"
    }
   }
  },
  {
   "cell_type": "code",
   "execution_count": 18,
   "outputs": [],
   "source": [
    "import wave\n",
    "import struct\n",
    "from scipy import fromstring, int16\n",
    "import numpy as np\n",
    "import math\n",
    "\n",
    "# wavファイルを59秒間隔で分割する関数\n",
    "def cut_wav(audio_chang_wav, time, wav_cut_dir):\n",
    "    wr = wave.open(audio_chang_wav, \"r\")\n",
    "\n",
    "    # wav情報を取得\n",
    "    ch = wr.getnchannels()\n",
    "    width = wr.getsampwidth()\n",
    "    fr = wr.getframerate()\n",
    "    fn = wr.getnframes()\n",
    "    total_time = 1.0 * fn / fr\n",
    "    integer = math.floor(total_time)\n",
    "    t = int(time)\n",
    "    frames = int(ch * fr * t)\n",
    "    # 小数点切り上げ（1分に満たない最後のシーンを出力するため）\n",
    "    num_cut = int(math.ceil(integer / t))\n",
    "    data = wr.readframes(wr.getnframes())\n",
    "    wr.close()\n",
    "\n",
    "    X = np.frombuffer(data, dtype=int16)\n",
    "\n",
    "    for i in range(num_cut):\n",
    "        outf = wav_cut_dir + str(i) + \".wav\"\n",
    "        start_cut = int(i * frames)\n",
    "        end_cut = int(i * frames + frames)\n",
    "        print(start_cut)\n",
    "        print(end_cut)\n",
    "        Y = X[start_cut:end_cut]\n",
    "        outd = struct.pack(\"h\" * len(Y), *Y)\n",
    "\n",
    "        # 書き出し\n",
    "        ww = wave.open(outf, \"w\")\n",
    "        ww.setnchannels(ch)\n",
    "        ww.setsampwidth(width)\n",
    "        ww.setframerate(fr)\n",
    "        ww.writeframes(outd)\n",
    "        ww.close()\n",
    "        print('終了しました')"
   ],
   "metadata": {
    "collapsed": false,
    "pycharm": {
     "name": "#%%\n"
    }
   }
  },
  {
   "cell_type": "code",
   "execution_count": 19,
   "outputs": [
    {
     "name": "stdout",
     "output_type": "stream",
     "text": [
      "584640\n"
     ]
    },
    {
     "data": {
      "text/plain": "<_io.BufferedRandom name='output.wav'>"
     },
     "execution_count": 19,
     "metadata": {},
     "output_type": "execute_result"
    }
   ],
   "source": [
    "# もしかすると、時間の長い音声ファイルは分割しなければ文字起こしできない可能性があるのでテスト\n",
    "sound = AudioSegment.from_file('../Transcription/audio/ステレオaudio.wav', format='wav')\n",
    "print(len(sound))\n",
    "# msで記述されている（5~1000秒の切り出し）\n",
    "sound1 = sound[5000:59000]\n",
    "sound1.export('output.wav', format='wav')"
   ],
   "metadata": {
    "collapsed": false,
    "pycharm": {
     "name": "#%%\n"
    }
   }
  },
  {
   "cell_type": "code",
   "execution_count": 65,
   "outputs": [
    {
     "name": "stdout",
     "output_type": "stream",
     "text": [
      "0\n",
      "472000\n",
      "終了しました\n",
      "472000\n",
      "944000\n",
      "終了しました\n",
      "944000\n",
      "1416000\n",
      "終了しました\n",
      "1416000\n",
      "1888000\n",
      "終了しました\n",
      "1888000\n",
      "2360000\n",
      "終了しました\n",
      "2360000\n",
      "2832000\n",
      "終了しました\n",
      "2832000\n",
      "3304000\n",
      "終了しました\n",
      "3304000\n",
      "3776000\n",
      "終了しました\n",
      "3776000\n",
      "4248000\n",
      "終了しました\n",
      "4248000\n",
      "4720000\n",
      "終了しました\n"
     ]
    }
   ],
   "source": [
    "# APIに直接遅れるのが60秒未満なので、59秒で設定している\n",
    "# 1分以上の場合は、uriでの扱いになる？\n",
    "time = 59\n",
    "audio_change_wav = 'sample1.wav'\n",
    "wav_cut_dir = '../Transcription/test_file/'\n",
    "# 音声ファイルをカットする関数\n",
    "cut_wav(audio_change_wav,time,  wav_cut_dir)\n"
   ],
   "metadata": {
    "collapsed": false,
    "pycharm": {
     "name": "#%%\n"
    }
   }
  },
  {
   "cell_type": "code",
   "execution_count": 38,
   "outputs": [],
   "source": [
    "import soundfile\n",
    "# いただいたファイルの音声ファイルのbit数が8bitだったので変換時に16bitに変換しろとエラーが出た\n",
    "# bit数を変換する関数\n",
    "def bit_change(audio_file_path, subtype):\n",
    "    data, fs = soundfile.read(audio_file_path)\n",
    "    soundfile.write('../Transcription/audio/ステレオaudio_change.wav', data, fs, subtype=subtype)\n",
    "    print('bit数の変換ファイルの出力が終了しました。')"
   ],
   "metadata": {
    "collapsed": false,
    "pycharm": {
     "name": "#%%\n"
    }
   }
  },
  {
   "cell_type": "code",
   "execution_count": 39,
   "outputs": [
    {
     "name": "stdout",
     "output_type": "stream",
     "text": [
      "bit数の変換ファイルの出力が終了しました。\n"
     ]
    }
   ],
   "source": [
    "audio_path = '../Transcription/audio/ステレオaudio.wav'\n",
    "change_subtype = 'PCM_16'\n",
    "# bit数を変換するための関数実行\n",
    "bit_change(audio_path,change_subtype)"
   ],
   "metadata": {
    "collapsed": false,
    "pycharm": {
     "name": "#%%\n"
    }
   }
  },
  {
   "cell_type": "code",
   "execution_count": 68,
   "outputs": [],
   "source": [
    "# ステレオチャンネルの音声の文字起こしをする関数\n",
    "def transcription_wav_stereo(audio_file):\n",
    "    client = speech.SpeechClient()\n",
    "\n",
    "    with io.open(audio_file, 'rb') as f:\n",
    "        content = f.read()\n",
    "\n",
    "    audio = speech.RecognitionAudio(content=content)\n",
    "\n",
    "    config = speech.RecognitionConfig(\n",
    "        encoding = speech.RecognitionConfig.AudioEncoding.LINEAR16,\n",
    "        sample_rate_hertz = 8000,\n",
    "        language_code = 'ja-JP',\n",
    "        audio_channel_count = 2,\n",
    "        enable_separate_recognition_per_channel = True,\n",
    "    )\n",
    "\n",
    "    response = client.recognize(config=config, audio=audio)\n",
    "\n",
    "    for i, result in enumerate(response.results):\n",
    "        alternative = result.alternatives[0]\n",
    "        print('-'*20)\n",
    "        print('first alternative of result {}'.format(i))\n",
    "        print(u'Transcript:{}'.format(alternative.transcript))\n",
    "        print(u'Channel Tag:{}'.format(result.channel_tag))"
   ],
   "metadata": {
    "collapsed": false,
    "pycharm": {
     "name": "#%%\n"
    }
   }
  },
  {
   "cell_type": "code",
   "execution_count": 73,
   "outputs": [
    {
     "name": "stdout",
     "output_type": "stream",
     "text": [
      "alternatives {\n",
      "  transcript: \"\\343\\201\\212\\344\\270\\226\\350\\251\\261\\343\\201\\252\\343\\201\\243\\343\\201\\246\\343\\201\\212\\343\\202\\212\\343\\201\\276\\343\\201\\231\\347\\247\\201 do you fine \\343\\201\\256\\343\\201\\212\\350\\212\\261\\343\\201\\250\\347\\224\\263\\343\\201\\227\\343\\201\\276\\343\\201\\231\\343\\201\\212\\344\\270\\226\\350\\251\\261\\343\\201\\253\\343\\201\\252\\343\\201\\243\\343\\201\\246\\343\\201\\212\\343\\202\\212\\343\\201\\276\\343\\201\\231\\343\\201\\235\\343\\201\\256\\343\\201\\237\\343\\202\\201\\343\\201\\256\\345\\274\\212\\347\\244\\276\\345\\201\\264\\343\\201\\256\\350\\250\\255\\345\\256\\232\\345\\244\\211\\346\\233\\264\\343\\203\\204\\343\\203\\274\\343\\203\\253\\343\\201\\256\\343\\201\\276\\346\\230\\250\\346\\227\\245\\345\\245\\221\\347\\264\\204\\343\\201\\250\\350\\250\\200\\343\\201\\206\\343\\201\\213\\343\\201\\223\\343\\201\\206\\343\\201\\204\\343\\201\\206\\343\\201\\223\\343\\201\\250\\343\\201\\247\\343\\201\\215\\343\\201\\276\\343\\201\\231\\343\\201\\213\\343\\201\\243\\343\\201\\246\\343\\201\\204\\343\\201\\206\\343\\201\\256\\347\\242\\272\\350\\252\\215\\343\\202\\222\\343\\201\\227\\343\\201\\237\\343\\201\\204\\343\\201\\252\\343\\201\\250\\346\\200\\235\\343\\201\\204\\343\\201\\276\\343\\201\\227\\343\\201\\246\\343\\201\\257\\343\\201\\204\\345\\220\\211\\345\\262\\241\\343\\203\\217\\343\\202\\244\\343\\203\\204\\343\\203\\236\\343\\203\\213\\343\\203\\245\\343\\202\\242\\343\\203\\253\\343\\201\\253\\343\\201\\257\\345\\205\\245\\343\\201\\243\\343\\201\\246\\343\\202\\213\\343\\201\\213\\343\\201\\204\\343\\201\\246\\343\\201\\257\\343\\201\\204\\343\\201\\237\\343\\202\\223\\343\\201\\247\\343\\201\\231\\343\\201\\221\\343\\202\\214\\343\\201\\251\\343\\202\\202\\343\\201\\202\\343\\201\\256 IP \\343\\201\\202\\343\\202\\213\\343\\201\\256\\350\\250\\255\\345\\256\\232\\343\\201\\252\\343\\202\\223\\343\\201\\247\\343\\201\\231\\343\\201\\221\\343\\201\\251\\343\\202\\202\\343\\201\\210\\343\\203\\274\\343\\201\\250\\343\\201\\223\\343\\202\\214\\350\\207\\252\\350\\272\\253\\343\\201\\257\\343\\201\\212\\351\\241\\230\\343\\201\\204\\343\\201\\227\\343\\201\\246\\343\\202\\202\\343\\201\\235\\343\\202\\214\\343\\201\\257\\343\\201\\253\\343\\201\\212\\351\\241\\230\\343\\201\\204\\343\\202\\222\\343\\201\\227\\343\\201\\246\\343\\202\\202\\343\\201\\247\\343\\201\\215\\343\\202\\213\\343\\201\\2278\\343\\201\\223\\343\\201\\241\\343\\202\\211\\345\\201\\264\\343\\201\\246\\343\\202\\213\\343\\201\\213\\343\\201\\251\\343\\201\\206\\343\\201\\213\\343\\201\\240\\343\\201\\250\\350\\250\\200\\343\\201\\206\\343\\201\\213\\350\\250\\255\\345\\256\\232\\345\\244\\211\\346\\233\\264\\343\\201\\231\\343\\202\\213\\345\\201\\264\\343\\201\\247\\343\\201\\223\\343\\201\\241\\343\\202\\211\\343\\201\\247\\347\\242\\272\\350\\252\\215\\343\\201\\247\\343\\201\\215\\343\\201\\237\\343\\202\\222\\350\\250\\230\\345\\205\\245\\343\\201\\227\\343\\201\\246\\343\\202\\202\\345\\217\\257\\350\\203\\275\\343\\201\\243\\343\\201\\246\\343\\201\\204\\343\\201\\206\\350\\252\\215\\350\\255\\230\\343\\201\\247\\345\\244\\247\\344\\270\\210\\345\\244\\253\\343\\201\\247\\343\\201\\231\\343\\201\\213\\343\\201\\255\"\n",
      "  confidence: 0.9389395117759705\n",
      "}\n",
      "result_end_time {\n",
      "  seconds: 55\n",
      "  nanos: 460000000\n",
      "}\n",
      "language_code: \"ja-jp\"\n",
      "\n",
      "0\n",
      "alternatives {\n",
      "  transcript: \"8\\343\\203\\255\\343\\202\\260\\343\\202\\244\\343\\203\\263\\343\\201\\231\\343\\202\\213\\346\\231\\202\\345\\207\\272\\343\\201\\246\\343\\201\\217\\343\\202\\213\\343\\202\\223\\343\\201\\247\\343\\201\\231\\343\\202\\210\\343\\201\\255\\343\\201\\257\\343\\201\\204\\343\\202\\210\\343\\202\\215\\343\\201\\227\\343\\201\\204\\343\\201\\247\\343\\201\\227\\343\\202\\207\\343\\201\\206\\343\\201\\2130743\"\n",
      "  confidence: 0.913537859916687\n",
      "}\n",
      "result_end_time {\n",
      "  seconds: 15\n",
      "  nanos: 270000000\n",
      "}\n",
      "language_code: \"ja-jp\"\n",
      "\n",
      "0\n",
      "alternatives {\n",
      "  transcript: \"\\343\\201\\257\\343\\201\\204\\345\\260\\217\\346\\226\\207\\345\\255\\227\\343\\201\\256 XD \\347\\242\\272\\345\\256\\232\\343\\201\\247\\343\\201\\231\\343\\201\\255\\343\\201\\246 xdf \\345\\244\\247\\346\\226\\207\\345\\255\\227\\343\\201\\247 jlp \\343\\201\\247\\343\\201\\231\\343\\201\\255\"\n",
      "  confidence: 0.9147258996963501\n",
      "}\n",
      "result_end_time {\n",
      "  seconds: 29\n",
      "  nanos: 690000000\n",
      "}\n",
      "language_code: \"ja-jp\"\n",
      "\n",
      "1\n",
      "alternatives {\n",
      "  transcript: \" visai\"\n",
      "  confidence: 0.6298606991767883\n",
      "}\n",
      "result_end_time {\n",
      "  seconds: 33\n",
      "  nanos: 240000000\n",
      "}\n",
      "language_code: \"ja-jp\"\n",
      "\n",
      "2\n",
      "alternatives {\n",
      "  transcript: \" \\346\\227\\251\\343\\201\\204\\343\\201\\227\\343\\201\\276\\343\\201\\231\"\n",
      "  confidence: 0.7833095788955688\n",
      "}\n",
      "result_end_time {\n",
      "  seconds: 41\n",
      "  nanos: 700000000\n",
      "}\n",
      "language_code: \"ja-jp\"\n",
      "\n",
      "3\n",
      "alternatives {\n",
      "  transcript: \" \\343\\201\\257\\343\\201\\204\"\n",
      "  confidence: 0.8739171624183655\n",
      "}\n",
      "result_end_time {\n",
      "  seconds: 45\n",
      "  nanos: 660000000\n",
      "}\n",
      "language_code: \"ja-jp\"\n",
      "\n",
      "4\n",
      "alternatives {\n",
      "  transcript: \" \\343\\201\\257\\343\\201\\204\\343\\201\\257\\343\\201\\204\\343\\201\\257\\343\\201\\204\"\n",
      "  confidence: 0.9614928960800171\n",
      "}\n",
      "result_end_time {\n",
      "  seconds: 58\n",
      "  nanos: 970000000\n",
      "}\n",
      "language_code: \"ja-jp\"\n",
      "\n",
      "5\n",
      "alternatives {\n",
      "  transcript: \"\\343\\201\\273\\343\\201\\204\"\n",
      "  confidence: 0.7842201590538025\n",
      "}\n",
      "result_end_time {\n",
      "  seconds: 4\n",
      "}\n",
      "language_code: \"ja-jp\"\n",
      "\n",
      "0\n",
      "alternatives {\n",
      "  transcript: \"\\343\\201\\257\\343\\201\\204\"\n",
      "  confidence: 0.8028974533081055\n",
      "}\n",
      "result_end_time {\n",
      "  seconds: 8\n",
      "  nanos: 860000000\n",
      "}\n",
      "language_code: \"ja-jp\"\n",
      "\n",
      "1\n",
      "alternatives {\n",
      "  transcript: \"\\343\\203\\217\\343\\202\\244\\343\\203\\255\\343\\203\\274\\343\\203\\211\\343\\201\\243\\343\\201\\246\\343\\201\\204\\343\\201\\206\\343\\201\\223\\343\\201\\250\\343\\201\\2578\\343\\201\\244\\343\\201\\253\\345\\210\\206\\343\\201\\221\\343\\201\\237\\343\\201\\204\\345\\240\\264\\345\\220\\210\\343\\201\\240\\343\\201\\250\\343\\203\\231\\343\\202\\257\\343\\202\\277\\343\\203\\274\\343\\201\\257\\343\\202\\210\\343\\201\\243\\343\\201\\241\\345\\277\\205\\350\\246\\201\\343\\201\\250\\343\\201\\227\\343\\201\\237\"\n",
      "  confidence: 0.9039616584777832\n",
      "}\n",
      "result_end_time {\n",
      "  seconds: 41\n",
      "  nanos: 520000000\n",
      "}\n",
      "language_code: \"ja-jp\"\n",
      "\n",
      "2\n",
      "alternatives {\n",
      "  transcript: \"\\343\\201\\202\\343\\203\\274\\343\\201\\252\\343\\202\\213\\343\\201\\273\\343\\201\\251\"\n",
      "  confidence: 0.8743168115615845\n",
      "}\n",
      "result_end_time {\n",
      "  seconds: 51\n",
      "  nanos: 550000000\n",
      "}\n",
      "language_code: \"ja-jp\"\n",
      "\n",
      "3\n",
      "alternatives {\n",
      "  transcript: \"\\343\\202\\242\\343\\203\\274\\343\\203\\216\\343\\203\\253\\343\\203\\211\\344\\270\\211\\345\\221\\263\\343\\201\\223\\343\\202\\214\\343\\201\\243\\343\\201\\246\\343\\201\\212\\351\\241\\230\\343\\201\\204\\343\\201\\231\\343\\202\\213\\343\\201\\256\\343\\202\\222\\347\\235\\200\\343\\201\\246\\351\\243\\233\\343\\202\\223\\343\\201\\240\\343\\202\\212\\343\\201\\246\\343\\201\\237\\343\\201\\256\"\n",
      "  confidence: 0.8805363774299622\n",
      "}\n",
      "result_end_time {\n",
      "  seconds: 58\n",
      "  nanos: 960000000\n",
      "}\n",
      "language_code: \"ja-jp\"\n",
      "\n",
      "4\n"
     ]
    }
   ],
   "source": [
    "for i in range(0, 3):\n",
    "    filename = '../Transcription/test_file/'+str(i)+'.wav'\n",
    "    transcription_wav(filename)"
   ],
   "metadata": {
    "collapsed": false,
    "pycharm": {
     "name": "#%%\n"
    }
   }
  },
  {
   "cell_type": "code",
   "execution_count": 76,
   "outputs": [],
   "source": [
    "from pydub import AudioSegment\n",
    "import numpy as np\n",
    "import matplotlib.pyplot as plt\n",
    "from scipy.io.wavfile import write\n",
    "\n",
    "# ステレオチャンネルの音声をleft, rightで分割して出力する関数\n",
    "def stereo_channel_split(stereo_audio):\n",
    "    sound = AudioSegment.from_file(stereo_audio)\n",
    "    # チャンネル数\n",
    "    channel_count = sound.channels\n",
    "    # frame_rate = speech to text でいうところのhertz\n",
    "    frames_per_second = sound.frame_rate\n",
    "    # ファイルの音声の長さ（秒）\n",
    "    duration = sound.duration_seconds\n",
    "    # 音声ファイルをnumpyで変換\n",
    "    sound_array = np.array(sound.get_array_of_samples())\n",
    "    # 右左に分割\n",
    "    left_sound = sound_array[0:len(sound_array):2]\n",
    "    right_sound = sound_array[1:len(sound_array):2]\n",
    "    # 音声データの書き出し\n",
    "    write('left_audio.wav', frames_per_second, left_sound)\n",
    "    write('right_audio.wav', frames_per_second, right_sound)\n",
    "    print('音声の分割が終了しました')\n",
    "\n",
    "# 試しに実行\n",
    "audio_path = '../Transcription/audio/ステレオaudio_change.wav'\n",
    "stereo_channel_split(audio_path)"
   ],
   "metadata": {
    "collapsed": false,
    "pycharm": {
     "name": "#%%\n"
    }
   }
  },
  {
   "cell_type": "code",
   "execution_count": null,
   "outputs": [],
   "source": [],
   "metadata": {
    "collapsed": false,
    "pycharm": {
     "name": "#%%\n"
    }
   }
  }
 ],
 "metadata": {
  "kernelspec": {
   "display_name": "Python 3",
   "language": "python",
   "name": "python3"
  },
  "language_info": {
   "codemirror_mode": {
    "name": "ipython",
    "version": 2
   },
   "file_extension": ".py",
   "mimetype": "text/x-python",
   "name": "python",
   "nbconvert_exporter": "python",
   "pygments_lexer": "ipython2",
   "version": "2.7.6"
  }
 },
 "nbformat": 4,
 "nbformat_minor": 0
}