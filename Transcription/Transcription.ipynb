{
 "cells": [
  {
   "cell_type": "code",
   "execution_count": 1,
   "metadata": {
    "collapsed": true
   },
   "outputs": [],
   "source": [
    "# ライブラリをインポート\n",
    "from google.cloud import speech\n",
    "import io\n",
    "import os\n",
    "from pydub import AudioSegment\n",
    "import ffmpeg\n",
    "import pandas as pd\n",
    "\n",
    "# keyを指定\n",
    "os.environ['GOOGLE_APPLICATION_CREDENTIALS'] = '../Transcription/key/credentials.json'"
   ]
  },
  {
   "cell_type": "code",
   "execution_count": 2,
   "outputs": [
    {
     "name": "stdout",
     "output_type": "stream",
     "text": [
      "584640\n"
     ]
    },
    {
     "data": {
      "text/plain": "<_io.BufferedRandom name='output.wav'>"
     },
     "execution_count": 2,
     "metadata": {},
     "output_type": "execute_result"
    }
   ],
   "source": [
    "#いきなり長いファイルは使用できないので、適当に30秒ほどのデータを作成するときに利用\n",
    "sound = AudioSegment.from_file('../Transcription/audio/ステレオaudio.wav', format='wav')\n",
    "print(len(sound))\n",
    "# msで記述されている（5~1000秒の切り出し）\n",
    "sound1 = sound[5000:59000]\n",
    "sound1.export('output.wav', format='wav')"
   ],
   "metadata": {
    "collapsed": false,
    "pycharm": {
     "name": "#%%\n"
    }
   }
  },
  {
   "cell_type": "code",
   "execution_count": 14,
   "outputs": [],
   "source": [
    "# 文字起こし関数(モノラルチャンネルver)\n",
    "def transcription_wav(audio_file, box, string_data):\n",
    "    # 音声ファイルの読み込み\n",
    "    with io.open(audio_file, 'rb') as f:\n",
    "        content = f.read()\n",
    "\n",
    "    # APIパラメータの作成\n",
    "    audio = speech.RecognitionAudio(content = content)\n",
    "    config = speech.RecognitionConfig(\n",
    "        # 都度エンコーディングする場合は、LINEAR16 しない場合は、ENCODING_UNSPECIFIED\n",
    "        # hertzはwavファイルによっては変更する必要があるかもしれないです。自分の場合は32000に指定しろと言われました\n",
    "        encoding = speech.RecognitionConfig.AudioEncoding.LINEAR16,\n",
    "        sample_rate_hertz = 8000,\n",
    "        language_code = \"ja-JP\",\n",
    "        #enable_word_time_offsets=True\n",
    "    )\n",
    "\n",
    "    # APIの呼び出し\n",
    "    client = speech.SpeechClient()\n",
    "    response = client.recognize(config = config, audio = audio)\n",
    "\n",
    "    # 結果の表示\n",
    "    # for result in response.results:\n",
    "    #     print(result.alternatives[0].transcript)\n",
    "    for i, result in enumerate(response.results):\n",
    "        # print(result)\n",
    "        # print(i)\n",
    "        alternative = result.alternatives[0]\n",
    "        print('-'*20)\n",
    "        print('現在文字起こし中です')\n",
    "        # print('first alternative of result {}'.format(i))\n",
    "        # print(u'Transcript:{}'.format(alternative.transcript))\n",
    "        # print(u'Channel Tag:{}'.format(result.channel_tag))\n",
    "        # print('second is ===', result.result_end_time)\n",
    "        item = [format(alternative.transcript), result.result_end_time, string_data]\n",
    "        box.append(item)\n",
    "    print('文字起こしを終了します')\n",
    "    return box"
   ],
   "metadata": {
    "collapsed": false,
    "pycharm": {
     "name": "#%%\n"
    }
   }
  },
  {
   "cell_type": "code",
   "execution_count": 7,
   "outputs": [],
   "source": [
    "from numpy import int16\n",
    "import wave\n",
    "import struct\n",
    "import math\n",
    "import numpy as np\n",
    "\n",
    "# wavファイルを59秒間隔で分割する関数\n",
    "def cut_wav(audio_chang_wav, time, wav_cut_dir):\n",
    "    wr = wave.open(audio_chang_wav, \"r\")\n",
    "\n",
    "    # wav情報を取得\n",
    "    ch = wr.getnchannels()\n",
    "    width = wr.getsampwidth()\n",
    "    fr = wr.getframerate()\n",
    "    fn = wr.getnframes()\n",
    "    total_time = 1.0 * fn / fr\n",
    "    integer = math.floor(total_time)\n",
    "    t = int(time)\n",
    "    frames = int(ch * fr * t)\n",
    "    # 小数点切り上げ（1分に満たない最後のシーンを出力するため）\n",
    "    num_cut = int(math.ceil(integer / t))\n",
    "    data = wr.readframes(wr.getnframes())\n",
    "    wr.close()\n",
    "\n",
    "    X = np.frombuffer(data, dtype=int16)\n",
    "\n",
    "    for i in range(num_cut):\n",
    "        outf = wav_cut_dir + str(i) + \".wav\"\n",
    "        start_cut = int(i * frames)\n",
    "        end_cut = int(i * frames + frames)\n",
    "        print(start_cut)\n",
    "        print(end_cut)\n",
    "        Y = X[start_cut:end_cut]\n",
    "        outd = struct.pack(\"h\" * len(Y), *Y)\n",
    "\n",
    "        # 書き出し\n",
    "        ww = wave.open(outf, \"w\")\n",
    "        ww.setnchannels(ch)\n",
    "        ww.setsampwidth(width)\n",
    "        ww.setframerate(fr)\n",
    "        ww.writeframes(outd)\n",
    "        ww.close()\n",
    "        print('終了しました')"
   ],
   "metadata": {
    "collapsed": false,
    "pycharm": {
     "name": "#%%\n"
    }
   }
  },
  {
   "cell_type": "code",
   "execution_count": 8,
   "outputs": [
    {
     "name": "stdout",
     "output_type": "stream",
     "text": [
      "0\n",
      "944000\n",
      "終了しました\n",
      "944000\n",
      "1888000\n",
      "終了しました\n",
      "1888000\n",
      "2832000\n",
      "終了しました\n",
      "2832000\n",
      "3776000\n",
      "終了しました\n",
      "3776000\n",
      "4720000\n",
      "終了しました\n",
      "4720000\n",
      "5664000\n",
      "終了しました\n",
      "5664000\n",
      "6608000\n",
      "終了しました\n",
      "6608000\n",
      "7552000\n",
      "終了しました\n",
      "7552000\n",
      "8496000\n",
      "終了しました\n",
      "8496000\n",
      "9440000\n",
      "終了しました\n"
     ]
    }
   ],
   "source": [
    "# APIに直接遅れるのが60秒未満なので、59秒で設定している\n",
    "# 1分以上の場合は、uriでの扱いになる？\n",
    "time = 59\n",
    "audio_change_wav = '../Transcription/audio/ステレオaudio_change.wav'\n",
    "wav_cut_dir = '../Transcription/test_file/'\n",
    "# 音声ファイルをカットする関数\n",
    "cut_wav(audio_change_wav,time,  wav_cut_dir)\n"
   ],
   "metadata": {
    "collapsed": false,
    "pycharm": {
     "name": "#%%\n"
    }
   }
  },
  {
   "cell_type": "code",
   "execution_count": null,
   "outputs": [],
   "source": [
    "import soundfile\n",
    "# いただいたファイルの音声ファイルのbit数が8bitだったので変換時に16bitに変換しろとエラーが出た\n",
    "# bit数を変換する関数\n",
    "def bit_change(audio_file_path, subtype):\n",
    "    data, fs = soundfile.read(audio_file_path)\n",
    "    soundfile.write('../Transcription/audio/ステレオaudio_change.wav', data, fs, subtype=subtype)\n",
    "    print('bit数の変換ファイルの出力が終了しました。')"
   ],
   "metadata": {
    "collapsed": false,
    "pycharm": {
     "name": "#%%\n"
    }
   }
  },
  {
   "cell_type": "code",
   "execution_count": null,
   "outputs": [],
   "source": [
    "audio_path = '../Transcription/audio/ステレオaudio.wav'\n",
    "change_subtype = 'PCM_16'\n",
    "# bit数を変換するための関数実行\n",
    "bit_change(audio_path,change_subtype)"
   ],
   "metadata": {
    "collapsed": false,
    "pycharm": {
     "name": "#%%\n"
    }
   }
  },
  {
   "cell_type": "code",
   "execution_count": 13,
   "outputs": [],
   "source": [
    "# ステレオチャンネルの音声の文字起こしをする関数\n",
    "def transcription_wav_stereo(audio_file, box, string_data):\n",
    "    client = speech.SpeechClient()\n",
    "\n",
    "    with io.open(audio_file, 'rb') as f:\n",
    "        content = f.read()\n",
    "\n",
    "    audio = speech.RecognitionAudio(content=content)\n",
    "\n",
    "    config = speech.RecognitionConfig(\n",
    "        encoding = speech.RecognitionConfig.AudioEncoding.LINEAR16,\n",
    "        sample_rate_hertz = 8000,\n",
    "        language_code = 'ja-JP',\n",
    "        audio_channel_count = 2,\n",
    "        enable_separate_recognition_per_channel = True,\n",
    "        # 機械学習モデルを選択できるので、それで電話通話を選択する。\n",
    "        model=\"phone_call\",\n",
    "    )\n",
    "\n",
    "    response = client.recognize(config=config, audio=audio)\n",
    "\n",
    "    for i, result in enumerate(response.results):\n",
    "        alternative = result.alternatives[0]\n",
    "        print('-'*20)\n",
    "        print('現在文字起こし中です')\n",
    "        # print('first alternative of result {}'.format(i))\n",
    "        # print(u'Transcript:{}'.format(alternative.transcript))\n",
    "        # print(u'Channel Tag:{}'.format(result.channel_tag))\n",
    "        # print('second is ===', result.result_end_time)\n",
    "        item = [alternative.transcript, result.channel_tag, result.result_end_time, string_data]\n",
    "        box.append(item)\n",
    "\n",
    "    print('文字起こしを終了します。')\n",
    "    return box\n"
   ],
   "metadata": {
    "collapsed": false,
    "pycharm": {
     "name": "#%%\n"
    }
   }
  },
  {
   "cell_type": "code",
   "execution_count": null,
   "outputs": [],
   "source": [
    "from pydub import AudioSegment\n",
    "import numpy as np\n",
    "import matplotlib.pyplot as plt\n",
    "from scipy.io.wavfile import write\n",
    "\n",
    "# ステレオチャンネルの音声をleft, rightで分割して出力する関数\n",
    "def stereo_channel_split(stereo_audio):\n",
    "    sound = AudioSegment.from_file(stereo_audio)\n",
    "    # チャンネル数\n",
    "    channel_count = sound.channels\n",
    "    # frame_rate = speech to text でいうところのhertz\n",
    "    frames_per_second = sound.frame_rate\n",
    "    # ファイルの音声の長さ（秒）\n",
    "    duration = sound.duration_seconds\n",
    "    # 音声ファイルをnumpyで変換\n",
    "    sound_array = np.array(sound.get_array_of_samples())\n",
    "    # 右左に分割\n",
    "    left_sound = sound_array[0:len(sound_array):2]\n",
    "    right_sound = sound_array[1:len(sound_array):2]\n",
    "    # 音声データの書き出し\n",
    "    write('left_audio.wav', frames_per_second, left_sound)\n",
    "    write('right_audio.wav', frames_per_second, right_sound)\n",
    "    print('音声の分割が終了しました')\n",
    "\n",
    "# 試しに実行\n",
    "audio_path = '../Transcription/audio/ステレオaudio_change.wav'\n",
    "stereo_channel_split(audio_path)"
   ],
   "metadata": {
    "collapsed": false,
    "pycharm": {
     "name": "#%%\n"
    }
   }
  },
  {
   "cell_type": "code",
   "execution_count": 15,
   "outputs": [
    {
     "name": "stdout",
     "output_type": "stream",
     "text": [
      "--------------------\n",
      "現在文字起こし中です\n",
      "--------------------\n",
      "現在文字起こし中です\n",
      "--------------------\n",
      "現在文字起こし中です\n",
      "--------------------\n",
      "現在文字起こし中です\n",
      "--------------------\n",
      "現在文字起こし中です\n",
      "--------------------\n",
      "現在文字起こし中です\n",
      "--------------------\n",
      "現在文字起こし中です\n",
      "--------------------\n",
      "現在文字起こし中です\n",
      "--------------------\n",
      "現在文字起こし中です\n",
      "文字起こしを終了します。\n",
      "0個目のデータの文字起こしが終了しました\n",
      "--------------------\n",
      "現在文字起こし中です\n",
      "--------------------\n",
      "現在文字起こし中です\n",
      "--------------------\n",
      "現在文字起こし中です\n",
      "--------------------\n",
      "現在文字起こし中です\n",
      "--------------------\n",
      "現在文字起こし中です\n",
      "--------------------\n",
      "現在文字起こし中です\n",
      "--------------------\n",
      "現在文字起こし中です\n",
      "--------------------\n",
      "現在文字起こし中です\n",
      "--------------------\n",
      "現在文字起こし中です\n",
      "--------------------\n",
      "現在文字起こし中です\n",
      "--------------------\n",
      "現在文字起こし中です\n",
      "--------------------\n",
      "現在文字起こし中です\n",
      "--------------------\n",
      "現在文字起こし中です\n",
      "--------------------\n",
      "現在文字起こし中です\n",
      "文字起こしを終了します。\n",
      "1個目のデータの文字起こしが終了しました\n"
     ]
    }
   ],
   "source": [
    "test_data_box = []\n",
    "for i in range(0, 2):\n",
    "    #transcription_wav('../Transcription/test_file/'+str(i)+'.wav', test_data_box, 'audio'+str(i))\n",
    "    transcription_wav_stereo('../Transcription/test_file/'+str(i)+'.wav', test_data_box, 'audio'+str(i))\n",
    "    print(str(i)+'個目のデータの文字起こしが終了しました')\n",
    "\n",
    "\n",
    "# 音声を分割した時のために利用する方\n",
    "#df = pd.DataFrame(test_data_box, columns=['text', 'timestamp', 'audio_num'])\n",
    "# ステレオチャンネルでそのまま利用した場合に利用する方\n",
    "df = pd.DataFrame(test_data_box, columns=['text', 'tag', 'timestamp', 'audio_num'])\n",
    "#df.to_csv('test_stereo.csv')\n"
   ],
   "metadata": {
    "collapsed": false,
    "pycharm": {
     "name": "#%%\n"
    }
   }
  },
  {
   "cell_type": "code",
   "execution_count": null,
   "outputs": [],
   "source": [],
   "metadata": {
    "collapsed": false,
    "pycharm": {
     "name": "#%%\n"
    }
   }
  }
 ],
 "metadata": {
  "kernelspec": {
   "display_name": "Python 3",
   "language": "python",
   "name": "python3"
  },
  "language_info": {
   "codemirror_mode": {
    "name": "ipython",
    "version": 2
   },
   "file_extension": ".py",
   "mimetype": "text/x-python",
   "name": "python",
   "nbconvert_exporter": "python",
   "pygments_lexer": "ipython2",
   "version": "2.7.6"
  }
 },
 "nbformat": 4,
 "nbformat_minor": 0
}