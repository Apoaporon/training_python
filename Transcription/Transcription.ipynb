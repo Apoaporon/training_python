{
 "cells": [
  {
   "cell_type": "code",
   "execution_count": 43,
   "metadata": {
    "collapsed": true
   },
   "outputs": [],
   "source": [
    "# ライブラリをインポート\n",
    "from google.cloud import speech\n",
    "import io\n",
    "import os\n",
    "from pydub import AudioSegment"
   ]
  },
  {
   "cell_type": "code",
   "execution_count": 44,
   "outputs": [],
   "source": [
    "# 文字起こし関数\n",
    "def transcription_wab(audio_file):\n",
    "    # 音声ファイルの読み込み\n",
    "    with io.open(audio_file, 'rb') as f:\n",
    "        content = f.read()\n",
    "\n",
    "    # APIパラメータの作成\n",
    "    audio = speech.RecognitionAudio(content = content)\n",
    "    config = speech.RecognitionConfig(\n",
    "        # 都度エンコーディングする場合は、LINEAR16 しない場合は、ENCODING_UNSPECIFIED\n",
    "        # hertzはwavファイルによっては変更する必要があるかもしれないです。自分の場合は32000に指定しろと言われました\n",
    "        encoding = speech.RecognitionConfig.AudioEncoding.LINEAR16,\n",
    "        sample_rate_hertz = 48000,\n",
    "        language_code = \"ja-JP\")\n",
    "\n",
    "    # APIの呼び出し\n",
    "    client = speech.SpeechClient()\n",
    "    response = client.recognize(config = config, audio = audio)\n",
    "\n",
    "    # 結果の表示\n",
    "    for result in response.results:\n",
    "        print(result.alternatives[0].transcript)\n"
   ],
   "metadata": {
    "collapsed": false,
    "pycharm": {
     "name": "#%%\n"
    }
   }
  },
  {
   "cell_type": "code",
   "execution_count": 45,
   "outputs": [
    {
     "name": "stdout",
     "output_type": "stream",
     "text": [
      "浅野朋美です\n",
      "今日の東京株式市場で日経平均株価は小幅続伸となっています終値は昨日に比べ22円72銭高の11088円58銭でした東証一部の値上がり銘柄数は1146対して値下がりは368変わらずは104銘柄となっています\n",
      "ここでプレゼントのお知らせですこの番組では毎月発行のマンスリーレポート4月号を抽選で10名様にプレゼント致しますお申し込みはお電話で状況をレーサー1例78373例3例1例78373まで以上番組からのお知らせでした\n"
     ]
    }
   ],
   "source": [
    "# keyを指定\n",
    "os.environ['GOOGLE_APPLICATION_CREDENTIALS'] = '../Transcription/key/credentials.json'\n",
    "# 実際に実行したいファイルを指定し、文字起こし関数を実行\n",
    "transcription_wab('../Transcription/audio/asano.wav')"
   ],
   "metadata": {
    "collapsed": false,
    "pycharm": {
     "name": "#%%\n"
    }
   }
  },
  {
   "cell_type": "code",
   "execution_count": 30,
   "outputs": [],
   "source": [
    "import wave\n",
    "import struct\n",
    "from scipy import fromstring, int16\n",
    "import numpy as np\n",
    "import math\n",
    "\n",
    "# wavファイルを59秒間隔で分割する関数\n",
    "def cut_wav(audio_chang_wav, time, wav_cut_dir):\n",
    "    wr = wave.open(audio_chang_wav, \"r\")\n",
    "\n",
    "    # wav情報を取得\n",
    "    ch = wr.getnchannels()\n",
    "    width = wr.getsampwidth()\n",
    "    fr = wr.getframerate()\n",
    "    fn = wr.getnframes()\n",
    "    total_time = 1.0 * fn / fr\n",
    "    integer = math.floor(total_time)\n",
    "    t = int(time)\n",
    "    frames = int(ch * fr * t)\n",
    "    # 小数点切り上げ（1分に満たない最後のシーンを出力するため）\n",
    "    num_cut = int(math.ceil(integer / t))\n",
    "    data = wr.readframes(wr.getnframes())\n",
    "    wr.close()\n",
    "\n",
    "    X = np.frombuffer(data, dtype=int16)\n",
    "\n",
    "    for i in range(num_cut):\n",
    "        outf = wav_cut_dir + str(i) + \".wav\"\n",
    "        start_cut = int(i * frames)\n",
    "        end_cut = int(i * frames + frames)\n",
    "        print(start_cut)\n",
    "        print(end_cut)\n",
    "        Y = X[start_cut:end_cut]\n",
    "        outd = struct.pack(\"h\" * len(Y), *Y)\n",
    "\n",
    "        # 書き出し\n",
    "        ww = wave.open(outf, \"w\")\n",
    "        ww.setnchannels(ch)\n",
    "        ww.setsampwidth(width)\n",
    "        ww.setframerate(fr)\n",
    "        ww.writeframes(outd)\n",
    "        ww.close()\n",
    "        print('終了しました')"
   ],
   "metadata": {
    "collapsed": false,
    "pycharm": {
     "name": "#%%\n"
    }
   }
  },
  {
   "cell_type": "code",
   "execution_count": 40,
   "outputs": [
    {
     "name": "stdout",
     "output_type": "stream",
     "text": [
      "0\n",
      "1920000\n",
      "終了しました\n",
      "1920000\n",
      "3840000\n",
      "終了しました\n",
      "3840000\n",
      "5760000\n",
      "終了しました\n",
      "5760000\n",
      "7680000\n",
      "終了しました\n",
      "7680000\n",
      "9600000\n",
      "終了しました\n",
      "9600000\n",
      "11520000\n",
      "終了しました\n",
      "11520000\n",
      "13440000\n",
      "終了しました\n",
      "13440000\n",
      "15360000\n",
      "終了しました\n",
      "15360000\n",
      "17280000\n",
      "終了しました\n",
      "17280000\n",
      "19200000\n",
      "終了しました\n",
      "19200000\n",
      "21120000\n",
      "終了しました\n",
      "21120000\n",
      "23040000\n",
      "終了しました\n",
      "23040000\n",
      "24960000\n",
      "終了しました\n",
      "24960000\n",
      "26880000\n",
      "終了しました\n",
      "26880000\n",
      "28800000\n",
      "終了しました\n",
      "28800000\n",
      "30720000\n",
      "終了しました\n",
      "30720000\n",
      "32640000\n",
      "終了しました\n"
     ]
    }
   ],
   "source": [
    "# もしかすると、時間の長い音声ファイルは分割しなければ文字起こしできない可能性があるのでテスト\n",
    "sound = AudioSegment.from_file('../Transcription/audio/20111118meeting.wav', format='wav')\n",
    "print(len(sound))\n",
    "# msで記述されている（5~1000秒の切り出し）\n",
    "sound1 = sound[5000:1000000]\n",
    "sound1.export('output.wav', format='wav')"
   ],
   "metadata": {
    "collapsed": false,
    "pycharm": {
     "name": "#%%\n"
    }
   }
  },
  {
   "cell_type": "code",
   "execution_count": null,
   "outputs": [],
   "source": [
    "# APIに直接遅れるのが60秒未満なので、59秒で設定している\n",
    "# 1分以上の場合は、uriでの扱いになる？\n",
    "time = 59\n",
    "audio_change_wav = 'output.wav'\n",
    "wav_cut_dir = '../Transcription/test_file/'\n",
    "cut_wav(audio_change_wav,time,  wav_cut_dir)"
   ],
   "metadata": {
    "collapsed": false,
    "pycharm": {
     "name": "#%%\n"
    }
   }
  },
  {
   "cell_type": "code",
   "execution_count": null,
   "outputs": [],
   "source": [
    "# mp3 fileをwavに変換したほうが良さそうなので\n",
    "# ffmpeg を入れないとエラーになりそう\n",
    "mp3_audio = AudioSegment.from_mp3('../Transcription/audio/001-sibutomo.mp3')\n",
    "mp3_audio.export('test-audio.wav', format='wav')\n"
   ],
   "metadata": {
    "collapsed": false,
    "pycharm": {
     "name": "#%%\n"
    }
   }
  }
 ],
 "metadata": {
  "kernelspec": {
   "display_name": "Python 3",
   "language": "python",
   "name": "python3"
  },
  "language_info": {
   "codemirror_mode": {
    "name": "ipython",
    "version": 2
   },
   "file_extension": ".py",
   "mimetype": "text/x-python",
   "name": "python",
   "nbconvert_exporter": "python",
   "pygments_lexer": "ipython2",
   "version": "2.7.6"
  }
 },
 "nbformat": 4,
 "nbformat_minor": 0
}