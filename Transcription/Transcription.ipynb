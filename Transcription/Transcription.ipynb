{
 "cells": [
  {
   "cell_type": "code",
   "execution_count": 5,
   "metadata": {
    "collapsed": true
   },
   "outputs": [],
   "source": [
    "# ライブラリをインポート\n",
    "from google.cloud import speech\n",
    "import io\n",
    "import os\n",
    "from pydub import AudioSegment"
   ]
  },
  {
   "cell_type": "code",
   "execution_count": 39,
   "outputs": [],
   "source": [
    "# 文字起こし関数\n",
    "def transcription_wab(audio_file):\n",
    "    # 音声ファイルの読み込み\n",
    "    with io.open(audio_file, 'rb') as f:\n",
    "        content = f.read()\n",
    "\n",
    "    # APIパラメータの作成\n",
    "    audio = speech.RecognitionAudio(content = content)\n",
    "    config = speech.RecognitionConfig(\n",
    "        # 都度エンコーディングする場合は、LINEAR16 しない場合は、ENCODING_UNSPECIFIED\n",
    "        # hertzはwavファイルによっては変更する必要があるかもしれないです。自分の場合は32000に指定しろと言われました\n",
    "        encoding = speech.RecognitionConfig.AudioEncoding.LINEAR16,\n",
    "        sample_rate_hertz = 48000,\n",
    "        language_code = \"ja-JP\")\n",
    "\n",
    "    # APIの呼び出し\n",
    "    client = speech.SpeechClient()\n",
    "    response = client.recognize(config = config, audio = audio)\n",
    "\n",
    "    # 結果の表示\n",
    "    for result in response.results:\n",
    "        print(result.alternatives[0].transcript)\n"
   ],
   "metadata": {
    "collapsed": false,
    "pycharm": {
     "name": "#%%\n"
    }
   }
  },
  {
   "cell_type": "code",
   "execution_count": 17,
   "outputs": [
    {
     "ename": "InvalidArgument",
     "evalue": "400 Request payload size exceeds the limit: 10485760 bytes.",
     "output_type": "error",
     "traceback": [
      "\u001B[0;31m---------------------------------------------------------------------------\u001B[0m",
      "\u001B[0;31m_InactiveRpcError\u001B[0m                         Traceback (most recent call last)",
      "\u001B[0;32m~/PycharmProjects/training_python/venv/lib/python3.7/site-packages/google/api_core/grpc_helpers.py\u001B[0m in \u001B[0;36merror_remapped_callable\u001B[0;34m(*args, **kwargs)\u001B[0m\n\u001B[1;32m     65\u001B[0m         \u001B[0;32mtry\u001B[0m\u001B[0;34m:\u001B[0m\u001B[0;34m\u001B[0m\u001B[0;34m\u001B[0m\u001B[0m\n\u001B[0;32m---> 66\u001B[0;31m             \u001B[0;32mreturn\u001B[0m \u001B[0mcallable_\u001B[0m\u001B[0;34m(\u001B[0m\u001B[0;34m*\u001B[0m\u001B[0margs\u001B[0m\u001B[0;34m,\u001B[0m \u001B[0;34m**\u001B[0m\u001B[0mkwargs\u001B[0m\u001B[0;34m)\u001B[0m\u001B[0;34m\u001B[0m\u001B[0;34m\u001B[0m\u001B[0m\n\u001B[0m\u001B[1;32m     67\u001B[0m         \u001B[0;32mexcept\u001B[0m \u001B[0mgrpc\u001B[0m\u001B[0;34m.\u001B[0m\u001B[0mRpcError\u001B[0m \u001B[0;32mas\u001B[0m \u001B[0mexc\u001B[0m\u001B[0;34m:\u001B[0m\u001B[0;34m\u001B[0m\u001B[0;34m\u001B[0m\u001B[0m\n",
      "\u001B[0;32m~/PycharmProjects/training_python/venv/lib/python3.7/site-packages/grpc/_channel.py\u001B[0m in \u001B[0;36m__call__\u001B[0;34m(self, request, timeout, metadata, credentials, wait_for_ready, compression)\u001B[0m\n\u001B[1;32m    945\u001B[0m                                       wait_for_ready, compression)\n\u001B[0;32m--> 946\u001B[0;31m         \u001B[0;32mreturn\u001B[0m \u001B[0m_end_unary_response_blocking\u001B[0m\u001B[0;34m(\u001B[0m\u001B[0mstate\u001B[0m\u001B[0;34m,\u001B[0m \u001B[0mcall\u001B[0m\u001B[0;34m,\u001B[0m \u001B[0;32mFalse\u001B[0m\u001B[0;34m,\u001B[0m \u001B[0;32mNone\u001B[0m\u001B[0;34m)\u001B[0m\u001B[0;34m\u001B[0m\u001B[0;34m\u001B[0m\u001B[0m\n\u001B[0m\u001B[1;32m    947\u001B[0m \u001B[0;34m\u001B[0m\u001B[0m\n",
      "\u001B[0;32m~/PycharmProjects/training_python/venv/lib/python3.7/site-packages/grpc/_channel.py\u001B[0m in \u001B[0;36m_end_unary_response_blocking\u001B[0;34m(state, call, with_call, deadline)\u001B[0m\n\u001B[1;32m    848\u001B[0m     \u001B[0;32melse\u001B[0m\u001B[0;34m:\u001B[0m\u001B[0;34m\u001B[0m\u001B[0;34m\u001B[0m\u001B[0m\n\u001B[0;32m--> 849\u001B[0;31m         \u001B[0;32mraise\u001B[0m \u001B[0m_InactiveRpcError\u001B[0m\u001B[0;34m(\u001B[0m\u001B[0mstate\u001B[0m\u001B[0;34m)\u001B[0m\u001B[0;34m\u001B[0m\u001B[0;34m\u001B[0m\u001B[0m\n\u001B[0m\u001B[1;32m    850\u001B[0m \u001B[0;34m\u001B[0m\u001B[0m\n",
      "\u001B[0;31m_InactiveRpcError\u001B[0m: <_InactiveRpcError of RPC that terminated with:\n\tstatus = StatusCode.INVALID_ARGUMENT\n\tdetails = \"Request payload size exceeds the limit: 10485760 bytes.\"\n\tdebug_error_string = \"{\"created\":\"@1649683535.420456000\",\"description\":\"Error received from peer ipv4:172.217.26.234:443\",\"file\":\"src/core/lib/surface/call.cc\",\"file_line\":904,\"grpc_message\":\"Request payload size exceeds the limit: 10485760 bytes.\",\"grpc_status\":3}\"\n>",
      "\nThe above exception was the direct cause of the following exception:\n",
      "\u001B[0;31mInvalidArgument\u001B[0m                           Traceback (most recent call last)",
      "\u001B[0;32m/var/folders/wx/51t4bgys7n5__g6ky336nqwm0000gn/T/ipykernel_8987/989387269.py\u001B[0m in \u001B[0;36m<module>\u001B[0;34m\u001B[0m\n\u001B[1;32m      2\u001B[0m \u001B[0mos\u001B[0m\u001B[0;34m.\u001B[0m\u001B[0menviron\u001B[0m\u001B[0;34m[\u001B[0m\u001B[0;34m'GOOGLE_APPLICATION_CREDENTIALS'\u001B[0m\u001B[0;34m]\u001B[0m \u001B[0;34m=\u001B[0m \u001B[0;34m'../Transcription/key/credentials.json'\u001B[0m\u001B[0;34m\u001B[0m\u001B[0;34m\u001B[0m\u001B[0m\n\u001B[1;32m      3\u001B[0m \u001B[0;31m# 実際に実行したいファイルを指定\u001B[0m\u001B[0;34m\u001B[0m\u001B[0;34m\u001B[0m\u001B[0;34m\u001B[0m\u001B[0m\n\u001B[0;32m----> 4\u001B[0;31m \u001B[0mtranscription_wab\u001B[0m\u001B[0;34m(\u001B[0m\u001B[0;34m'../Transcription/audio/20111118meeting.wav'\u001B[0m\u001B[0;34m)\u001B[0m\u001B[0;34m\u001B[0m\u001B[0;34m\u001B[0m\u001B[0m\n\u001B[0m\u001B[1;32m      5\u001B[0m \u001B[0;34m\u001B[0m\u001B[0m\n",
      "\u001B[0;32m/var/folders/wx/51t4bgys7n5__g6ky336nqwm0000gn/T/ipykernel_8987/3212223814.py\u001B[0m in \u001B[0;36mtranscription_wab\u001B[0;34m(audio_file)\u001B[0m\n\u001B[1;32m     14\u001B[0m         \u001B[0;31m# APIの呼び出し\u001B[0m\u001B[0;34m\u001B[0m\u001B[0;34m\u001B[0m\u001B[0;34m\u001B[0m\u001B[0m\n\u001B[1;32m     15\u001B[0m     \u001B[0mclient\u001B[0m \u001B[0;34m=\u001B[0m \u001B[0mspeech\u001B[0m\u001B[0;34m.\u001B[0m\u001B[0mSpeechClient\u001B[0m\u001B[0;34m(\u001B[0m\u001B[0;34m)\u001B[0m\u001B[0;34m\u001B[0m\u001B[0;34m\u001B[0m\u001B[0m\n\u001B[0;32m---> 16\u001B[0;31m     \u001B[0mresponse\u001B[0m \u001B[0;34m=\u001B[0m \u001B[0mclient\u001B[0m\u001B[0;34m.\u001B[0m\u001B[0mrecognize\u001B[0m\u001B[0;34m(\u001B[0m\u001B[0mconfig\u001B[0m \u001B[0;34m=\u001B[0m \u001B[0mconfig\u001B[0m\u001B[0;34m,\u001B[0m \u001B[0maudio\u001B[0m \u001B[0;34m=\u001B[0m \u001B[0maudio\u001B[0m\u001B[0;34m)\u001B[0m\u001B[0;34m\u001B[0m\u001B[0;34m\u001B[0m\u001B[0m\n\u001B[0m\u001B[1;32m     17\u001B[0m \u001B[0;34m\u001B[0m\u001B[0m\n\u001B[1;32m     18\u001B[0m     \u001B[0;31m# 結果の表示\u001B[0m\u001B[0;34m\u001B[0m\u001B[0;34m\u001B[0m\u001B[0;34m\u001B[0m\u001B[0m\n",
      "\u001B[0;32m~/PycharmProjects/training_python/venv/lib/python3.7/site-packages/google/cloud/speech_v1/services/speech/client.py\u001B[0m in \u001B[0;36mrecognize\u001B[0;34m(self, request, config, audio, retry, timeout, metadata)\u001B[0m\n\u001B[1;32m    517\u001B[0m \u001B[0;34m\u001B[0m\u001B[0m\n\u001B[1;32m    518\u001B[0m         \u001B[0;31m# Send the request.\u001B[0m\u001B[0;34m\u001B[0m\u001B[0;34m\u001B[0m\u001B[0;34m\u001B[0m\u001B[0m\n\u001B[0;32m--> 519\u001B[0;31m         \u001B[0mresponse\u001B[0m \u001B[0;34m=\u001B[0m \u001B[0mrpc\u001B[0m\u001B[0;34m(\u001B[0m\u001B[0mrequest\u001B[0m\u001B[0;34m,\u001B[0m \u001B[0mretry\u001B[0m\u001B[0;34m=\u001B[0m\u001B[0mretry\u001B[0m\u001B[0;34m,\u001B[0m \u001B[0mtimeout\u001B[0m\u001B[0;34m=\u001B[0m\u001B[0mtimeout\u001B[0m\u001B[0;34m,\u001B[0m \u001B[0mmetadata\u001B[0m\u001B[0;34m=\u001B[0m\u001B[0mmetadata\u001B[0m\u001B[0;34m,\u001B[0m\u001B[0;34m)\u001B[0m\u001B[0;34m\u001B[0m\u001B[0;34m\u001B[0m\u001B[0m\n\u001B[0m\u001B[1;32m    520\u001B[0m \u001B[0;34m\u001B[0m\u001B[0m\n\u001B[1;32m    521\u001B[0m         \u001B[0;31m# Done; return the response.\u001B[0m\u001B[0;34m\u001B[0m\u001B[0;34m\u001B[0m\u001B[0;34m\u001B[0m\u001B[0m\n",
      "\u001B[0;32m~/PycharmProjects/training_python/venv/lib/python3.7/site-packages/google/api_core/gapic_v1/method.py\u001B[0m in \u001B[0;36m__call__\u001B[0;34m(self, timeout, retry, *args, **kwargs)\u001B[0m\n\u001B[1;32m    152\u001B[0m             \u001B[0mkwargs\u001B[0m\u001B[0;34m[\u001B[0m\u001B[0;34m\"metadata\"\u001B[0m\u001B[0;34m]\u001B[0m \u001B[0;34m=\u001B[0m \u001B[0mmetadata\u001B[0m\u001B[0;34m\u001B[0m\u001B[0;34m\u001B[0m\u001B[0m\n\u001B[1;32m    153\u001B[0m \u001B[0;34m\u001B[0m\u001B[0m\n\u001B[0;32m--> 154\u001B[0;31m         \u001B[0;32mreturn\u001B[0m \u001B[0mwrapped_func\u001B[0m\u001B[0;34m(\u001B[0m\u001B[0;34m*\u001B[0m\u001B[0margs\u001B[0m\u001B[0;34m,\u001B[0m \u001B[0;34m**\u001B[0m\u001B[0mkwargs\u001B[0m\u001B[0;34m)\u001B[0m\u001B[0;34m\u001B[0m\u001B[0;34m\u001B[0m\u001B[0m\n\u001B[0m\u001B[1;32m    155\u001B[0m \u001B[0;34m\u001B[0m\u001B[0m\n\u001B[1;32m    156\u001B[0m \u001B[0;34m\u001B[0m\u001B[0m\n",
      "\u001B[0;32m~/PycharmProjects/training_python/venv/lib/python3.7/site-packages/google/api_core/retry.py\u001B[0m in \u001B[0;36mretry_wrapped_func\u001B[0;34m(*args, **kwargs)\u001B[0m\n\u001B[1;32m    286\u001B[0m                 \u001B[0msleep_generator\u001B[0m\u001B[0;34m,\u001B[0m\u001B[0;34m\u001B[0m\u001B[0;34m\u001B[0m\u001B[0m\n\u001B[1;32m    287\u001B[0m                 \u001B[0mself\u001B[0m\u001B[0;34m.\u001B[0m\u001B[0m_deadline\u001B[0m\u001B[0;34m,\u001B[0m\u001B[0;34m\u001B[0m\u001B[0;34m\u001B[0m\u001B[0m\n\u001B[0;32m--> 288\u001B[0;31m                 \u001B[0mon_error\u001B[0m\u001B[0;34m=\u001B[0m\u001B[0mon_error\u001B[0m\u001B[0;34m,\u001B[0m\u001B[0;34m\u001B[0m\u001B[0;34m\u001B[0m\u001B[0m\n\u001B[0m\u001B[1;32m    289\u001B[0m             )\n\u001B[1;32m    290\u001B[0m \u001B[0;34m\u001B[0m\u001B[0m\n",
      "\u001B[0;32m~/PycharmProjects/training_python/venv/lib/python3.7/site-packages/google/api_core/retry.py\u001B[0m in \u001B[0;36mretry_target\u001B[0;34m(target, predicate, sleep_generator, deadline, on_error)\u001B[0m\n\u001B[1;32m    188\u001B[0m     \u001B[0;32mfor\u001B[0m \u001B[0msleep\u001B[0m \u001B[0;32min\u001B[0m \u001B[0msleep_generator\u001B[0m\u001B[0;34m:\u001B[0m\u001B[0;34m\u001B[0m\u001B[0;34m\u001B[0m\u001B[0m\n\u001B[1;32m    189\u001B[0m         \u001B[0;32mtry\u001B[0m\u001B[0;34m:\u001B[0m\u001B[0;34m\u001B[0m\u001B[0;34m\u001B[0m\u001B[0m\n\u001B[0;32m--> 190\u001B[0;31m             \u001B[0;32mreturn\u001B[0m \u001B[0mtarget\u001B[0m\u001B[0;34m(\u001B[0m\u001B[0;34m)\u001B[0m\u001B[0;34m\u001B[0m\u001B[0;34m\u001B[0m\u001B[0m\n\u001B[0m\u001B[1;32m    191\u001B[0m \u001B[0;34m\u001B[0m\u001B[0m\n\u001B[1;32m    192\u001B[0m         \u001B[0;31m# pylint: disable=broad-except\u001B[0m\u001B[0;34m\u001B[0m\u001B[0;34m\u001B[0m\u001B[0;34m\u001B[0m\u001B[0m\n",
      "\u001B[0;32m~/PycharmProjects/training_python/venv/lib/python3.7/site-packages/google/api_core/grpc_helpers.py\u001B[0m in \u001B[0;36merror_remapped_callable\u001B[0;34m(*args, **kwargs)\u001B[0m\n\u001B[1;32m     66\u001B[0m             \u001B[0;32mreturn\u001B[0m \u001B[0mcallable_\u001B[0m\u001B[0;34m(\u001B[0m\u001B[0;34m*\u001B[0m\u001B[0margs\u001B[0m\u001B[0;34m,\u001B[0m \u001B[0;34m**\u001B[0m\u001B[0mkwargs\u001B[0m\u001B[0;34m)\u001B[0m\u001B[0;34m\u001B[0m\u001B[0;34m\u001B[0m\u001B[0m\n\u001B[1;32m     67\u001B[0m         \u001B[0;32mexcept\u001B[0m \u001B[0mgrpc\u001B[0m\u001B[0;34m.\u001B[0m\u001B[0mRpcError\u001B[0m \u001B[0;32mas\u001B[0m \u001B[0mexc\u001B[0m\u001B[0;34m:\u001B[0m\u001B[0;34m\u001B[0m\u001B[0;34m\u001B[0m\u001B[0m\n\u001B[0;32m---> 68\u001B[0;31m             \u001B[0;32mraise\u001B[0m \u001B[0mexceptions\u001B[0m\u001B[0;34m.\u001B[0m\u001B[0mfrom_grpc_error\u001B[0m\u001B[0;34m(\u001B[0m\u001B[0mexc\u001B[0m\u001B[0;34m)\u001B[0m \u001B[0;32mfrom\u001B[0m \u001B[0mexc\u001B[0m\u001B[0;34m\u001B[0m\u001B[0;34m\u001B[0m\u001B[0m\n\u001B[0m\u001B[1;32m     69\u001B[0m \u001B[0;34m\u001B[0m\u001B[0m\n\u001B[1;32m     70\u001B[0m     \u001B[0;32mreturn\u001B[0m \u001B[0merror_remapped_callable\u001B[0m\u001B[0;34m\u001B[0m\u001B[0;34m\u001B[0m\u001B[0m\n",
      "\u001B[0;31mInvalidArgument\u001B[0m: 400 Request payload size exceeds the limit: 10485760 bytes."
     ]
    }
   ],
   "source": [
    "# keyを指定\n",
    "os.environ['GOOGLE_APPLICATION_CREDENTIALS'] = '../Transcription/key/credentials.json'\n",
    "# 実際に実行したいファイルを指定し、文字起こし関数を実行\n",
    "transcription_wab('../Transcription/audio/20111118meeting.wav')"
   ],
   "metadata": {
    "collapsed": false,
    "pycharm": {
     "name": "#%%\n"
    }
   }
  },
  {
   "cell_type": "code",
   "execution_count": 30,
   "outputs": [],
   "source": [
    "import wave\n",
    "import struct\n",
    "from scipy import fromstring, int16\n",
    "import numpy as np\n",
    "import math\n",
    "\n",
    "# wavファイルを59秒間隔で分割する関数\n",
    "def cut_wav(audio_chang_wav, time, wav_cut_dir):\n",
    "    wr = wave.open(audio_chang_wav, \"r\")\n",
    "\n",
    "    # wav情報を取得\n",
    "    ch = wr.getnchannels()\n",
    "    width = wr.getsampwidth()\n",
    "    fr = wr.getframerate()\n",
    "    fn = wr.getnframes()\n",
    "    total_time = 1.0 * fn / fr\n",
    "    integer = math.floor(total_time)\n",
    "    t = int(time)\n",
    "    frames = int(ch * fr * t)\n",
    "    # 小数点切り上げ（1分に満たない最後のシーンを出力するため）\n",
    "    num_cut = int(math.ceil(integer / t))\n",
    "    data = wr.readframes(wr.getnframes())\n",
    "    wr.close()\n",
    "\n",
    "    X = np.frombuffer(data, dtype=int16)\n",
    "\n",
    "    for i in range(num_cut):\n",
    "        outf = wav_cut_dir + str(i) + \".wav\"\n",
    "        start_cut = int(i * frames)\n",
    "        end_cut = int(i * frames + frames)\n",
    "        print(start_cut)\n",
    "        print(end_cut)\n",
    "        Y = X[start_cut:end_cut]\n",
    "        outd = struct.pack(\"h\" * len(Y), *Y)\n",
    "\n",
    "        # 書き出し\n",
    "        ww = wave.open(outf, \"w\")\n",
    "        ww.setnchannels(ch)\n",
    "        ww.setsampwidth(width)\n",
    "        ww.setframerate(fr)\n",
    "        ww.writeframes(outd)\n",
    "        ww.close()\n",
    "        print('終了しました')"
   ],
   "metadata": {
    "collapsed": false,
    "pycharm": {
     "name": "#%%\n"
    }
   }
  },
  {
   "cell_type": "code",
   "execution_count": 40,
   "outputs": [
    {
     "name": "stdout",
     "output_type": "stream",
     "text": [
      "0\n",
      "1920000\n",
      "終了しました\n",
      "1920000\n",
      "3840000\n",
      "終了しました\n",
      "3840000\n",
      "5760000\n",
      "終了しました\n",
      "5760000\n",
      "7680000\n",
      "終了しました\n",
      "7680000\n",
      "9600000\n",
      "終了しました\n",
      "9600000\n",
      "11520000\n",
      "終了しました\n",
      "11520000\n",
      "13440000\n",
      "終了しました\n",
      "13440000\n",
      "15360000\n",
      "終了しました\n",
      "15360000\n",
      "17280000\n",
      "終了しました\n",
      "17280000\n",
      "19200000\n",
      "終了しました\n",
      "19200000\n",
      "21120000\n",
      "終了しました\n",
      "21120000\n",
      "23040000\n",
      "終了しました\n",
      "23040000\n",
      "24960000\n",
      "終了しました\n",
      "24960000\n",
      "26880000\n",
      "終了しました\n",
      "26880000\n",
      "28800000\n",
      "終了しました\n",
      "28800000\n",
      "30720000\n",
      "終了しました\n",
      "30720000\n",
      "32640000\n",
      "終了しました\n"
     ]
    }
   ],
   "source": [
    "# もしかすると、時間の長い音声ファイルは分割しなければ文字起こしできない可能性があるのでテスト\n",
    "sound = AudioSegment.from_file('../Transcription/audio/20111118meeting.wav', format='wav')\n",
    "print(len(sound))\n",
    "# msで記述されている（5~1000秒の切り出し）\n",
    "sound1 = sound[5000:1000000]\n",
    "sound1.export('output.wav', format='wav')"
   ],
   "metadata": {
    "collapsed": false,
    "pycharm": {
     "name": "#%%\n"
    }
   }
  },
  {
   "cell_type": "code",
   "execution_count": null,
   "outputs": [],
   "source": [
    "# APIに直接遅れるのが60秒未満なので、59秒で設定している\n",
    "# 1分以上の場合は、uriでの扱いになる？\n",
    "time = 59\n",
    "audio_change_wav = 'output.wav'\n",
    "wav_cut_dir = '../Transcription/test_file/'\n",
    "cut_wav(audio_change_wav,time,  wav_cut_dir)"
   ],
   "metadata": {
    "collapsed": false,
    "pycharm": {
     "name": "#%%\n"
    }
   }
  },
  {
   "cell_type": "code",
   "execution_count": null,
   "outputs": [],
   "source": [
    "# mp3 fileをwavに変換したほうが良さそうなので\n",
    "# ffmpeg を入れないとエラーになりそう\n",
    "mp3_audio = AudioSegment.from_mp3('../Transcription/audio/001-sibutomo.mp3')\n",
    "mp3_audio.export('test-audio.wav', format='wav')\n"
   ],
   "metadata": {
    "collapsed": false,
    "pycharm": {
     "name": "#%%\n"
    }
   }
  }
 ],
 "metadata": {
  "kernelspec": {
   "display_name": "Python 3",
   "language": "python",
   "name": "python3"
  },
  "language_info": {
   "codemirror_mode": {
    "name": "ipython",
    "version": 2
   },
   "file_extension": ".py",
   "mimetype": "text/x-python",
   "name": "python",
   "nbconvert_exporter": "python",
   "pygments_lexer": "ipython2",
   "version": "2.7.6"
  }
 },
 "nbformat": 4,
 "nbformat_minor": 0
}